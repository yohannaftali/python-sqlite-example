{
  "nbformat": 4,
  "nbformat_minor": 0,
  "metadata": {
    "colab": {
      "provenance": [],
      "authorship_tag": "ABX9TyPGff6Z91NbwkoW7jt9W9Zo"
    },
    "kernelspec": {
      "name": "python3",
      "display_name": "Python 3"
    },
    "language_info": {
      "name": "python"
    }
  },
  "cells": [
    {
      "cell_type": "code",
      "execution_count": null,
      "metadata": {
        "colab": {
          "base_uri": "https://localhost:8080/"
        },
        "id": "ElkhZ7fuv4RC",
        "outputId": "3bbe89a7-e5a4-4cb2-e1b2-e59cad812f77"
      },
      "outputs": [
        {
          "output_type": "stream",
          "name": "stdout",
          "text": [
            "[{'_id': 1, 'name': {'first': 'John', 'last': 'Backus'}, 'birth': '1924-12-03', 'death': '2007-03-17', 'contribs': ['Fortran', 'ALGOL', 'Backus-Naur Form', 'FP'], 'awards': [{'award': 'W.W. McDowell Award', 'year': 1967, 'by': 'IEEE Computer Society'}, {'award': 'National Medal of Science', 'year': 1975, 'by': 'National Science Foundation'}, {'award': 'Turing Award', 'year': 1977, 'by': 'ACM'}, {'award': 'Draper Prize', 'year': 1993, 'by': 'National Academy of Engineering'}]}, {'_id': 2, 'name': {'first': 'John', 'last': 'McCarthy'}, 'birth': '1927-09-04', 'death': '2011-12-24', 'contribs': ['Lisp', 'Artificial Intelligence', 'ALGOL'], 'awards': [{'award': 'Turing Award', 'year': 1971, 'by': 'ACM'}, {'award': 'Kyoto Prize', 'year': 1988, 'by': 'Inamori Foundation'}, {'award': 'National Medal of Science', 'year': 1990, 'by': 'National Science Foundation'}]}, {'_id': 3, 'name': {'first': 'Grace', 'last': 'Hopper'}, 'title': 'Rear Admiral', 'birth': '1906-12-09', 'death': '1992-01-01', 'contribs': ['UNIVAC', 'compiler', 'FLOW-MATIC', 'COBOL'], 'awards': [{'award': 'Computer Sciences Man of the Year', 'year': 1969, 'by': 'Data Processing Management Association'}, {'award': 'Distinguished Fellow', 'year': 1973, 'by': ' British Computer Society'}, {'award': 'W. W. McDowell Award', 'year': 1976, 'by': 'IEEE Computer Society'}, {'award': 'National Medal of Technology', 'year': 1991, 'by': 'United States'}]}, {'_id': 4, 'name': {'first': 'Kristen', 'last': 'Nygaard'}, 'birth': '1926-08-27', 'death': '2002-08-10', 'contribs': ['OOP', 'Simula'], 'awards': [{'award': 'Rosing Prize', 'year': 1999, 'by': 'Norwegian Data Association'}, {'award': 'Turing Award', 'year': 2001, 'by': 'ACM'}, {'award': 'IEEE John von Neumann Medal', 'year': 2001, 'by': 'IEEE'}]}, {'_id': 5, 'name': {'first': 'Ole-Johan', 'last': 'Dahl'}, 'birth': '1931-10-12', 'death': '2002-06-29', 'contribs': ['OOP', 'Simula'], 'awards': [{'award': 'Rosing Prize', 'year': 1999, 'by': 'Norwegian Data Association'}, {'award': 'Turing Award', 'year': 2001, 'by': 'ACM'}, {'award': 'IEEE John von Neumann Medal', 'year': 2001, 'by': 'IEEE'}]}, {'_id': 6, 'name': {'first': 'Guido', 'last': 'van Rossum'}, 'birth': '1956-01-31', 'contribs': ['Python'], 'awards': [{'award': 'Award for the Advancement of Free Software', 'year': 2001, 'by': 'Free Software Foundation'}, {'award': 'NLUUG Award', 'year': 2003, 'by': 'NLUUG'}]}, {'_id': 7, 'name': {'first': 'Dennis', 'last': 'Ritchie'}, 'birth': '1941-09-09', 'death': '2011-10-12', 'contribs': ['UNIX', 'C'], 'awards': [{'award': 'Turing Award', 'year': 1983, 'by': 'ACM'}, {'award': 'National Medal of Technology', 'year': 1998, 'by': 'United States'}, {'award': 'Japan Prize', 'year': 2011, 'by': 'The Japan Prize Foundation'}]}, {'_id': 8, 'name': {'first': 'Yukihiro', 'aka': 'Matz', 'last': 'Matsumoto'}, 'birth': '1965-04-14', 'contribs': ['Ruby'], 'awards': [{'award': 'Award for the Advancement of Free Software', 'year': '2011', 'by': 'Free Software Foundation'}]}, {'_id': 9, 'name': {'first': 'James', 'last': 'Gosling'}, 'birth': '1955-05-19', 'contribs': ['Java'], 'awards': [{'award': 'The Economist Innovation Award', 'year': 2002, 'by': 'The Economist'}, {'award': 'Officer of the Order of Canada', 'year': 2007, 'by': 'Canada'}]}, {'_id': 10, 'name': {'first': 'Martin', 'last': 'Odersky'}, 'contribs': ['Scala']}]\n"
          ]
        }
      ],
      "source": [
        "# Read file json into variables\n",
        "import json\n",
        "\n",
        "f = open('bios.json')\n",
        "data = json.load(f)\n",
        "f.close()\n",
        "\n",
        "print(data)"
      ]
    },
    {
      "cell_type": "code",
      "source": [
        "# Prepare data for table computer_scientist\n",
        "\n",
        "cs = []\n",
        "for i in data:\n",
        "  this_cs = {}\n",
        "  this_cs['id'] = i.get('_id')\n",
        "  this_cs['last'] = i.get('name').get('last')\n",
        "  this_cs['birth'] = i.get('birth', None)\n",
        "  this_cs['death'] = i.get('death', None)\n",
        "  cs.append(this_cs)\n",
        "\n",
        "print(cs)\n"
      ],
      "metadata": {
        "colab": {
          "base_uri": "https://localhost:8080/"
        },
        "id": "rHdoHXm4xoNL",
        "outputId": "ff7acc3b-b395-4f85-bc36-f4752908aadb"
      },
      "execution_count": null,
      "outputs": [
        {
          "output_type": "stream",
          "name": "stdout",
          "text": [
            "[{'id': 1, 'last': 'Backus', 'birth': '1924-12-03', 'death': '2007-03-17'}, {'id': 2, 'last': 'McCarthy', 'birth': '1927-09-04', 'death': '2011-12-24'}, {'id': 3, 'last': 'Hopper', 'birth': '1906-12-09', 'death': '1992-01-01'}, {'id': 4, 'last': 'Nygaard', 'birth': '1926-08-27', 'death': '2002-08-10'}, {'id': 5, 'last': 'Dahl', 'birth': '1931-10-12', 'death': '2002-06-29'}, {'id': 6, 'last': 'van Rossum', 'birth': '1956-01-31', 'death': None}, {'id': 7, 'last': 'Ritchie', 'birth': '1941-09-09', 'death': '2011-10-12'}, {'id': 8, 'last': 'Matsumoto', 'birth': '1965-04-14', 'death': None}, {'id': 9, 'last': 'Gosling', 'birth': '1955-05-19', 'death': None}, {'id': 10, 'last': 'Odersky', 'birth': None, 'death': None}]\n"
          ]
        }
      ]
    },
    {
      "cell_type": "code",
      "source": [
        "# Prepare data awards \n",
        "\n",
        "aw = []\n",
        "cs_aw = []\n",
        "last_award_id = 1\n",
        "for i in data:\n",
        "  scientist_id = i.get('_id')\n",
        "  list_aw = i.get('awards', None)\n",
        "  if list_aw != None and len(list_aw) > 0:\n",
        "    for j in list_aw:\n",
        "      isExistList = list(filter(lambda item: item['award'] == j.get('award'), aw))\n",
        "      this_award_id = None\n",
        "      if(len(isExistList) > 0):\n",
        "        this_award_id = isExistList[0]['id']\n",
        "      else:\n",
        "        this_award_id = last_award_id\n",
        "        aw.append({\n",
        "            'id': this_award_id,\n",
        "            'award': j.get('award'),\n",
        "            'by': j.get('by')\n",
        "        })\n",
        "        last_award_id += 1\n",
        "      this_cs_aw = {}\n",
        "      cs_aw.append({\n",
        "          'scientist_id': scientist_id,\n",
        "          'award_id': this_award_id,\n",
        "          'year': j.get('year')\n",
        "      })\n",
        "\n",
        "print(aw)\n",
        "print(cs_aw)\n"
      ],
      "metadata": {
        "colab": {
          "base_uri": "https://localhost:8080/"
        },
        "id": "53fFpSEcI3ZW",
        "outputId": "8fe0a058-8566-4eab-ea17-b1e1dc315af2"
      },
      "execution_count": null,
      "outputs": [
        {
          "output_type": "stream",
          "name": "stdout",
          "text": [
            "[{'id': 1, 'award': 'W.W. McDowell Award', 'by': 'IEEE Computer Society'}, {'id': 2, 'award': 'National Medal of Science', 'by': 'National Science Foundation'}, {'id': 3, 'award': 'Turing Award', 'by': 'ACM'}, {'id': 4, 'award': 'Draper Prize', 'by': 'National Academy of Engineering'}, {'id': 5, 'award': 'Kyoto Prize', 'by': 'Inamori Foundation'}, {'id': 6, 'award': 'Computer Sciences Man of the Year', 'by': 'Data Processing Management Association'}, {'id': 7, 'award': 'Distinguished Fellow', 'by': ' British Computer Society'}, {'id': 8, 'award': 'W. W. McDowell Award', 'by': 'IEEE Computer Society'}, {'id': 9, 'award': 'National Medal of Technology', 'by': 'United States'}, {'id': 10, 'award': 'Rosing Prize', 'by': 'Norwegian Data Association'}, {'id': 11, 'award': 'IEEE John von Neumann Medal', 'by': 'IEEE'}, {'id': 12, 'award': 'Award for the Advancement of Free Software', 'by': 'Free Software Foundation'}, {'id': 13, 'award': 'NLUUG Award', 'by': 'NLUUG'}, {'id': 14, 'award': 'Japan Prize', 'by': 'The Japan Prize Foundation'}, {'id': 15, 'award': 'The Economist Innovation Award', 'by': 'The Economist'}, {'id': 16, 'award': 'Officer of the Order of Canada', 'by': 'Canada'}]\n",
            "[{'scientist_id': 1, 'award_id': 1, 'year': 1967}, {'scientist_id': 1, 'award_id': 2, 'year': 1975}, {'scientist_id': 1, 'award_id': 3, 'year': 1977}, {'scientist_id': 1, 'award_id': 4, 'year': 1993}, {'scientist_id': 2, 'award_id': 3, 'year': 1971}, {'scientist_id': 2, 'award_id': 5, 'year': 1988}, {'scientist_id': 2, 'award_id': 2, 'year': 1990}, {'scientist_id': 3, 'award_id': 6, 'year': 1969}, {'scientist_id': 3, 'award_id': 7, 'year': 1973}, {'scientist_id': 3, 'award_id': 8, 'year': 1976}, {'scientist_id': 3, 'award_id': 9, 'year': 1991}, {'scientist_id': 4, 'award_id': 10, 'year': 1999}, {'scientist_id': 4, 'award_id': 3, 'year': 2001}, {'scientist_id': 4, 'award_id': 11, 'year': 2001}, {'scientist_id': 5, 'award_id': 10, 'year': 1999}, {'scientist_id': 5, 'award_id': 3, 'year': 2001}, {'scientist_id': 5, 'award_id': 11, 'year': 2001}, {'scientist_id': 6, 'award_id': 12, 'year': 2001}, {'scientist_id': 6, 'award_id': 13, 'year': 2003}, {'scientist_id': 7, 'award_id': 3, 'year': 1983}, {'scientist_id': 7, 'award_id': 9, 'year': 1998}, {'scientist_id': 7, 'award_id': 14, 'year': 2011}, {'scientist_id': 8, 'award_id': 12, 'year': '2011'}, {'scientist_id': 9, 'award_id': 15, 'year': 2002}, {'scientist_id': 9, 'award_id': 16, 'year': 2007}]\n"
          ]
        }
      ]
    },
    {
      "cell_type": "code",
      "source": [
        "# Prepare data contribs\n",
        "co = []\n",
        "cs_co = []\n",
        "last_contrib_id = 1\n",
        "for i in data:\n",
        "  scientist_id = i.get('_id')\n",
        "  list_co = list(i.get('contribs', None))\n",
        "  if list_co != None and len(list_co) > 0:\n",
        "    for j in list_co:\n",
        "      isExistList = list(filter(lambda item: item['contrib'] == j, co))\n",
        "      this_contrib_id = None\n",
        "      if(len(isExistList) > 0):\n",
        "        this_contrib_id = isExistList[0]['id']\n",
        "      else:\n",
        "        this_contrib_id = last_contrib_id\n",
        "        co.append({\n",
        "            'id': this_contrib_id,\n",
        "            'contrib': j\n",
        "        })\n",
        "        last_contrib_id += 1\n",
        "      this_cs_co = {}\n",
        "      cs_co.append({\n",
        "          'scientist_id': scientist_id,\n",
        "          'contrib_id': this_contrib_id\n",
        "      })\n",
        "\n",
        "print(co)\n",
        "print(cs_co)"
      ],
      "metadata": {
        "colab": {
          "base_uri": "https://localhost:8080/"
        },
        "id": "6NWbi4DcLYta",
        "outputId": "ee10211c-21e8-4b15-c2ff-88018be7e21f"
      },
      "execution_count": null,
      "outputs": [
        {
          "output_type": "stream",
          "name": "stdout",
          "text": [
            "[{'id': 1, 'contrib': 'Fortran'}, {'id': 2, 'contrib': 'ALGOL'}, {'id': 3, 'contrib': 'Backus-Naur Form'}, {'id': 4, 'contrib': 'FP'}, {'id': 5, 'contrib': 'Lisp'}, {'id': 6, 'contrib': 'Artificial Intelligence'}, {'id': 7, 'contrib': 'UNIVAC'}, {'id': 8, 'contrib': 'compiler'}, {'id': 9, 'contrib': 'FLOW-MATIC'}, {'id': 10, 'contrib': 'COBOL'}, {'id': 11, 'contrib': 'OOP'}, {'id': 12, 'contrib': 'Simula'}, {'id': 13, 'contrib': 'Python'}, {'id': 14, 'contrib': 'UNIX'}, {'id': 15, 'contrib': 'C'}, {'id': 16, 'contrib': 'Ruby'}, {'id': 17, 'contrib': 'Java'}, {'id': 18, 'contrib': 'Scala'}]\n",
            "[{'scientist_id': 1, 'contrib_id': 1}, {'scientist_id': 1, 'contrib_id': 2}, {'scientist_id': 1, 'contrib_id': 3}, {'scientist_id': 1, 'contrib_id': 4}, {'scientist_id': 2, 'contrib_id': 5}, {'scientist_id': 2, 'contrib_id': 6}, {'scientist_id': 2, 'contrib_id': 2}, {'scientist_id': 3, 'contrib_id': 7}, {'scientist_id': 3, 'contrib_id': 8}, {'scientist_id': 3, 'contrib_id': 9}, {'scientist_id': 3, 'contrib_id': 10}, {'scientist_id': 4, 'contrib_id': 11}, {'scientist_id': 4, 'contrib_id': 12}, {'scientist_id': 5, 'contrib_id': 11}, {'scientist_id': 5, 'contrib_id': 12}, {'scientist_id': 6, 'contrib_id': 13}, {'scientist_id': 7, 'contrib_id': 14}, {'scientist_id': 7, 'contrib_id': 15}, {'scientist_id': 8, 'contrib_id': 16}, {'scientist_id': 9, 'contrib_id': 17}, {'scientist_id': 10, 'contrib_id': 18}]\n"
          ]
        }
      ]
    },
    {
      "cell_type": "code",
      "source": [
        "# Create database sqllite\n",
        "\n",
        "import sqlite3\n",
        "conn = None\n",
        "try:\n",
        "    conn = sqlite3.connect(':memory:')\n",
        "    print(sqlite3.version)\n",
        "except sqlite3.Error as e:\n",
        "    print(e)\n",
        "finally:\n",
        "    if conn:\n",
        "        print('success create database in memory')\n"
      ],
      "metadata": {
        "colab": {
          "base_uri": "https://localhost:8080/"
        },
        "id": "62bDNGfE2byi",
        "outputId": "9f9dbf7e-9d3f-4b32-bd88-1a2a180de329"
      },
      "execution_count": null,
      "outputs": [
        {
          "output_type": "stream",
          "name": "stdout",
          "text": [
            "2.6.0\n",
            "success create database in memory\n"
          ]
        }
      ]
    },
    {
      "cell_type": "code",
      "source": [
        "# Create table computer_scientist\n",
        "\n",
        "create_table_computer_scientist = \"\"\"\n",
        "  CREATE TABLE IF NOT EXISTS computer_scientist (\n",
        "    id INTEGER PRIMARY KEY,\n",
        "    last TEXT NOT NULL,\n",
        "    birth TEXT,\n",
        "    death TEXT\n",
        "  );\n",
        "\"\"\"\n",
        "cur = None\n",
        "try:\n",
        "  cur = conn.cursor()\n",
        "  cur.execute(create_table_computer_scientist)\n",
        "except sqlite3.Error as e:\n",
        "  print(e)\n",
        "conn.commit()"
      ],
      "metadata": {
        "colab": {
          "base_uri": "https://localhost:8080/"
        },
        "id": "0b1PiFPB3NJX",
        "outputId": "d165a49f-b0c0-4010-a5b2-9a5a68a16e76"
      },
      "execution_count": null,
      "outputs": [
        {
          "output_type": "stream",
          "name": "stdout",
          "text": [
            "[('computer_scientist',)]\n"
          ]
        }
      ]
    },
    {
      "cell_type": "code",
      "source": [
        "# Create table awards\n",
        "\n",
        "create_table_awards = \"\"\"\n",
        "  CREATE TABLE IF NOT EXISTS awards (\n",
        "    id INTEGER PRIMARY KEY,\n",
        "    award TEXT NOT NULL,\n",
        "    by TEXT NOT NULL\n",
        "  );\n",
        "\"\"\"\n",
        "cur = None\n",
        "try:\n",
        "  cur = conn.cursor()\n",
        "  cur.execute(create_table_awards)\n",
        "except sqlite3.Error as e:\n",
        "  print(e)\n",
        "conn.commit()"
      ],
      "metadata": {
        "id": "UrDLdAuVVtUB"
      },
      "execution_count": null,
      "outputs": []
    },
    {
      "cell_type": "code",
      "source": [
        "# Create table computer_scientist_awards\n",
        "\n",
        "# drop = \"DROP TABLE computer_scientist_awards;\"\n",
        "create_table_computer_scientist_awards = \"\"\"  \n",
        "  CREATE TABLE IF NOT EXISTS computer_scientist_awards (\n",
        "    scientist_id INTEGER INTEGER,\n",
        "    award_id INTEGER NOT NULL,\n",
        "    year TEXT NOT NULL,\n",
        "    FOREIGN KEY (scientist_id)\n",
        "       REFERENCES computer_scientist (id)\n",
        "    FOREIGN KEY (award_id)\n",
        "       REFERENCES awards (id) \n",
        "  );\n",
        "\"\"\"\n",
        "cur = None\n",
        "try:\n",
        "  cur = conn.cursor()\n",
        "  cur.execute(create_table_computer_scientist_awards)  \n",
        "except sqlite3.Error as e:\n",
        "  print(e)\n",
        "conn.commit()\n"
      ],
      "metadata": {
        "id": "KqCHQBilWS96"
      },
      "execution_count": null,
      "outputs": []
    },
    {
      "cell_type": "code",
      "source": [
        "# Create table contribs\n",
        "\n",
        "create_table_contrib = \"\"\"\n",
        "  CREATE TABLE IF NOT EXISTS contribs (\n",
        "    id INTEGER PRIMARY KEY,\n",
        "    contrib TEXT NOT NULL\n",
        "  );\n",
        "\"\"\"\n",
        "cur = None\n",
        "try:\n",
        "  cur = conn.cursor()\n",
        "  cur.execute(create_table_contrib)\n",
        "except sqlite3.Error as e:\n",
        "  print(e)\n",
        "conn.commit()"
      ],
      "metadata": {
        "colab": {
          "base_uri": "https://localhost:8080/"
        },
        "id": "8pPVQrXzZHfn",
        "outputId": "8f489d70-038e-4a85-9124-9df7c23be049"
      },
      "execution_count": null,
      "outputs": [
        {
          "output_type": "stream",
          "name": "stdout",
          "text": [
            "[]\n"
          ]
        }
      ]
    },
    {
      "cell_type": "code",
      "source": [
        "# Create table computer_scientist_contribs\n",
        "\n",
        "create_table_computer_scientist_awards = \"\"\"\n",
        "  CREATE TABLE IF NOT EXISTS computer_scientist_contribs (\n",
        "    scientist_id INTEGER INTEGER,\n",
        "    contrib_id INTEGER NOT NULL,\n",
        "    FOREIGN KEY (scientist_id)\n",
        "       REFERENCES computer_scientist (id)\n",
        "    FOREIGN KEY (contrib_id)\n",
        "       REFERENCES contribs (id) \n",
        "  );\n",
        "\"\"\"\n",
        "cur = None\n",
        "try:\n",
        "  cur = conn.cursor()\n",
        "  cur.execute(create_table_computer_scientist_awards)  \n",
        "except sqlite3.Error as e:\n",
        "  print(e)\n",
        "conn.commit()"
      ],
      "metadata": {
        "colab": {
          "base_uri": "https://localhost:8080/"
        },
        "id": "yG-O_nJKZOmG",
        "outputId": "14997ace-754a-4e42-e55b-4555d68a65aa"
      },
      "execution_count": null,
      "outputs": [
        {
          "output_type": "stream",
          "name": "stdout",
          "text": [
            "[]\n"
          ]
        }
      ]
    },
    {
      "cell_type": "code",
      "source": [
        "# Show all created tables\n",
        "show_tables = \"\"\"\n",
        "  SELECT name \n",
        "  FROM sqlite_master \n",
        "  WHERE type='table';\n",
        "\"\"\"\n",
        "cur = None\n",
        "try:\n",
        "  cur = conn.cursor()\n",
        "  cur.execute(show_tables)\n",
        "  print(cur.fetchall())\n",
        "except sqlite3.Error as e:\n",
        "  print(e)\n",
        "conn.commit()\n"
      ],
      "metadata": {
        "colab": {
          "base_uri": "https://localhost:8080/"
        },
        "id": "f2_7MXu7W4i7",
        "outputId": "cb214af0-e8a8-4f8d-9304-5d69e9707dab"
      },
      "execution_count": null,
      "outputs": [
        {
          "output_type": "stream",
          "name": "stdout",
          "text": [
            "[('computer_scientist',), ('awards',), ('contribs',), ('computer_scientist_contribs',), ('computer_scientist_awards',)]\n"
          ]
        }
      ]
    },
    {
      "cell_type": "code",
      "source": [
        "# Insert data cs into table computer_scientist\n",
        "insert_row = \"INSERT INTO computer_scientist ( id, last, birth, death ) VALUES ( ?, ?, ?, ? );\"\n",
        "show_data = \"SELECT * FROM computer_scientist;\"\n",
        "for row in cs:\n",
        "  id = row.get('id')\n",
        "  this_cs = (row.get('id'), row.get('last'), row.get('birth', None), row.get('death', None))\n",
        "  try:\n",
        "    cur.execute(insert_row, this_cs)\n",
        "  except sqlite3.Error as e:\n",
        "    print(e)\n",
        "conn.commit()\n",
        "cur.execute(show_data)\n",
        "print(cur.fetchall())"
      ],
      "metadata": {
        "colab": {
          "base_uri": "https://localhost:8080/"
        },
        "id": "duzRJ9q--XMw",
        "outputId": "4de10a66-d8cc-4321-d251-b6f08ae575b2"
      },
      "execution_count": null,
      "outputs": [
        {
          "output_type": "stream",
          "name": "stdout",
          "text": [
            "UNIQUE constraint failed: computer_scientist.id\n",
            "UNIQUE constraint failed: computer_scientist.id\n",
            "UNIQUE constraint failed: computer_scientist.id\n",
            "UNIQUE constraint failed: computer_scientist.id\n",
            "UNIQUE constraint failed: computer_scientist.id\n",
            "UNIQUE constraint failed: computer_scientist.id\n",
            "UNIQUE constraint failed: computer_scientist.id\n",
            "UNIQUE constraint failed: computer_scientist.id\n",
            "UNIQUE constraint failed: computer_scientist.id\n",
            "UNIQUE constraint failed: computer_scientist.id\n",
            "[(1, 'Backus', '1924-12-03', '2007-03-17'), (2, 'McCarthy', '1927-09-04', '2011-12-24'), (3, 'Hopper', '1906-12-09', '1992-01-01'), (4, 'Nygaard', '1926-08-27', '2002-08-10'), (5, 'Dahl', '1931-10-12', '2002-06-29'), (6, 'van Rossum', '1956-01-31', None), (7, 'Ritchie', '1941-09-09', '2011-10-12'), (8, 'Matsumoto', '1965-04-14', None), (9, 'Gosling', '1955-05-19', None), (10, 'Odersky', None, None)]\n"
          ]
        }
      ]
    },
    {
      "cell_type": "code",
      "source": [
        "# Insert data aw into table awards\n",
        "insert_row = \"INSERT INTO awards ( id, award, by ) VALUES ( ?, ?, ? );\"\n",
        "show_data = \"SELECT * FROM awards;\"\n",
        "for row in aw:\n",
        "  id = row.get('id')\n",
        "  this_aw = (row.get('id'), row.get('award'), row.get('by'))\n",
        "  try:\n",
        "    cur.execute(insert_row, this_aw)\n",
        "  except sqlite3.Error as e:\n",
        "    print(e)\n",
        "conn.commit()\n",
        "cur.execute(show_data)\n",
        "print(cur.fetchall())"
      ],
      "metadata": {
        "colab": {
          "base_uri": "https://localhost:8080/"
        },
        "id": "rLV2TtG_bfsU",
        "outputId": "9c78d6a4-8075-4929-ad77-15e890477a52"
      },
      "execution_count": null,
      "outputs": [
        {
          "output_type": "stream",
          "name": "stdout",
          "text": [
            "UNIQUE constraint failed: awards.id\n",
            "UNIQUE constraint failed: awards.id\n",
            "UNIQUE constraint failed: awards.id\n",
            "UNIQUE constraint failed: awards.id\n",
            "UNIQUE constraint failed: awards.id\n",
            "UNIQUE constraint failed: awards.id\n",
            "UNIQUE constraint failed: awards.id\n",
            "UNIQUE constraint failed: awards.id\n",
            "UNIQUE constraint failed: awards.id\n",
            "UNIQUE constraint failed: awards.id\n",
            "UNIQUE constraint failed: awards.id\n",
            "UNIQUE constraint failed: awards.id\n",
            "UNIQUE constraint failed: awards.id\n",
            "UNIQUE constraint failed: awards.id\n",
            "UNIQUE constraint failed: awards.id\n",
            "UNIQUE constraint failed: awards.id\n",
            "[(1, 'W.W. McDowell Award', 'IEEE Computer Society'), (2, 'National Medal of Science', 'National Science Foundation'), (3, 'Turing Award', 'ACM'), (4, 'Draper Prize', 'National Academy of Engineering'), (5, 'Kyoto Prize', 'Inamori Foundation'), (6, 'Computer Sciences Man of the Year', 'Data Processing Management Association'), (7, 'Distinguished Fellow', ' British Computer Society'), (8, 'W. W. McDowell Award', 'IEEE Computer Society'), (9, 'National Medal of Technology', 'United States'), (10, 'Rosing Prize', 'Norwegian Data Association'), (11, 'IEEE John von Neumann Medal', 'IEEE'), (12, 'Award for the Advancement of Free Software', 'Free Software Foundation'), (13, 'NLUUG Award', 'NLUUG'), (14, 'Japan Prize', 'The Japan Prize Foundation'), (15, 'The Economist Innovation Award', 'The Economist'), (16, 'Officer of the Order of Canada', 'Canada')]\n"
          ]
        }
      ]
    },
    {
      "cell_type": "code",
      "source": [
        "# Insert data co into table contribs\n",
        "insert_row = \"INSERT INTO contribs ( id, contrib ) VALUES ( ?, ? );\"\n",
        "show_data = \"SELECT * FROM contribs;\"\n",
        "for row in co:\n",
        "  id = row.get('id')\n",
        "  this_co = (row.get('id'), row.get('contrib'))\n",
        "  try:\n",
        "    cur.execute(insert_row, this_co)\n",
        "  except sqlite3.Error as e:\n",
        "    print(e)\n",
        "conn.commit()\n",
        "cur.execute(show_data)\n",
        "print(cur.fetchall())"
      ],
      "metadata": {
        "colab": {
          "base_uri": "https://localhost:8080/"
        },
        "id": "Ny5cLwLRd-jY",
        "outputId": "f513dffb-def7-4f23-fad7-ac71a1bf304e"
      },
      "execution_count": null,
      "outputs": [
        {
          "output_type": "stream",
          "name": "stdout",
          "text": [
            "[(1, 'Fortran'), (2, 'ALGOL'), (3, 'Backus-Naur Form'), (4, 'FP'), (5, 'Lisp'), (6, 'Artificial Intelligence'), (7, 'UNIVAC'), (8, 'compiler'), (9, 'FLOW-MATIC'), (10, 'COBOL'), (11, 'OOP'), (12, 'Simula'), (13, 'Python'), (14, 'UNIX'), (15, 'C'), (16, 'Ruby'), (17, 'Java'), (18, 'Scala')]\n"
          ]
        }
      ]
    },
    {
      "cell_type": "code",
      "source": [],
      "metadata": {
        "id": "azdM6-Dde3Xo"
      },
      "execution_count": null,
      "outputs": []
    },
    {
      "cell_type": "code",
      "source": [
        "# Insert data cs_aw into table computer_scientist_awards\n",
        "\n",
        "insert_row = \"INSERT INTO computer_scientist_awards ( scientist_id, award_id, year ) VALUES ( ?, ?, ? );\"\n",
        "show_data = \"SELECT * FROM computer_scientist_awards;\"\n",
        "for row in cs_aw:\n",
        "  id = row.get('id')\n",
        "  this_row = (row.get('scientist_id'), row.get('award_id'), row.get('year'))\n",
        "  try:\n",
        "    cur.execute(insert_row, this_row)\n",
        "  except sqlite3.Error as e:\n",
        "    print(e)\n",
        "conn.commit()\n",
        "cur.execute(show_data)\n",
        "print(cur.fetchall())\n"
      ],
      "metadata": {
        "colab": {
          "base_uri": "https://localhost:8080/"
        },
        "id": "J4kC8z_zZ4vo",
        "outputId": "39c41a8b-7b57-4f3b-cb37-f2cd6d9069ea"
      },
      "execution_count": null,
      "outputs": [
        {
          "output_type": "stream",
          "name": "stdout",
          "text": [
            "[(1, 1, '1967'), (1, 2, '1975'), (1, 3, '1977'), (1, 4, '1993'), (2, 3, '1971'), (2, 5, '1988'), (2, 2, '1990'), (3, 6, '1969'), (3, 7, '1973'), (3, 8, '1976'), (3, 9, '1991'), (4, 10, '1999'), (4, 3, '2001'), (4, 11, '2001'), (5, 10, '1999'), (5, 3, '2001'), (5, 11, '2001'), (6, 12, '2001'), (6, 13, '2003'), (7, 3, '1983'), (7, 9, '1998'), (7, 14, '2011'), (8, 12, '2011'), (9, 15, '2002'), (9, 16, '2007')]\n"
          ]
        }
      ]
    },
    {
      "cell_type": "code",
      "source": [
        "# Insert data cs_co into table computer_scientist_contribs\n",
        "\n",
        "insert_row = \"INSERT INTO computer_scientist_contribs ( scientist_id, contrib_id ) VALUES ( ?, ? );\"\n",
        "show_data = \"SELECT * FROM computer_scientist_contribs;\"\n",
        "for row in cs_co:\n",
        "  id = row.get('id')\n",
        "  this_row = (row.get('scientist_id'), row.get('contrib_id'))\n",
        "  try:\n",
        "    cur.execute(insert_row, this_row)\n",
        "  except sqlite3.Error as e:\n",
        "    print(e)\n",
        "conn.commit()\n",
        "cur.execute(show_data)\n",
        "print(cur.fetchall())"
      ],
      "metadata": {
        "colab": {
          "base_uri": "https://localhost:8080/"
        },
        "id": "jeNPjBqvfdVP",
        "outputId": "88f28213-32ef-49f5-ca21-f7e2d9eecf20"
      },
      "execution_count": null,
      "outputs": [
        {
          "output_type": "stream",
          "name": "stdout",
          "text": [
            "[(1, 1), (1, 2), (1, 3), (1, 4), (2, 5), (2, 6), (2, 2), (3, 7), (3, 8), (3, 9), (3, 10), (4, 11), (4, 12), (5, 11), (5, 12), (6, 13), (7, 14), (7, 15), (8, 16), (9, 17), (10, 18)]\n"
          ]
        }
      ]
    },
    {
      "cell_type": "code",
      "source": [
        "# Calculate awards per Scientist\n",
        "awards_by_scientist = \"\"\"\n",
        "  SELECT s.last AS scientist, COUNT(a.award_id) AS count_award\n",
        "  FROM computer_scientist_awards a\n",
        "  JOIN computer_scientist s ON a.scientist_id = s.id\n",
        "  GROUP BY s.id\n",
        "\"\"\"\n",
        "try:\n",
        "  cur.execute(awards_by_scientist)\n",
        "  print(cur.fetchall())\n",
        "except sqlite3.Error as e:\n",
        "    print(e)\n"
      ],
      "metadata": {
        "colab": {
          "base_uri": "https://localhost:8080/"
        },
        "id": "YJ0qawkHftDm",
        "outputId": "d4f9967a-fd8a-4dbf-bc42-f14b311f4a50"
      },
      "execution_count": null,
      "outputs": [
        {
          "output_type": "stream",
          "name": "stdout",
          "text": [
            "[('Backus', 4), ('McCarthy', 3), ('Hopper', 4), ('Nygaard', 3), ('Dahl', 3), ('van Rossum', 2), ('Ritchie', 3), ('Matsumoto', 1), ('Gosling', 2)]\n"
          ]
        }
      ]
    },
    {
      "cell_type": "code",
      "source": [
        "# Calculate average awards per Scientist\n",
        "average_awards = \"\"\"\n",
        "  SELECT AVG(a.count_award_per_scientist) AS average_award_per_scientist\n",
        "  FROM (\n",
        "    SELECT COUNT(award_id) AS count_award_per_scientist\n",
        "    FROM computer_scientist_awards\n",
        "    GROUP BY scientist_id\n",
        "  ) AS a\n",
        "\"\"\"\n",
        "try:\n",
        "  cur.execute(average_awards)\n",
        "  print(cur.fetchall())\n",
        "except sqlite3.Error as e:\n",
        "  print(e)\n"
      ],
      "metadata": {
        "colab": {
          "base_uri": "https://localhost:8080/"
        },
        "id": "3eYhj9-di7eE",
        "outputId": "7a11597b-3a15-4310-c3d3-d3c768f7dfa2"
      },
      "execution_count": null,
      "outputs": [
        {
          "output_type": "stream",
          "name": "stdout",
          "text": [
            "[(2.7777777777777777,)]\n"
          ]
        }
      ]
    }
  ]
}